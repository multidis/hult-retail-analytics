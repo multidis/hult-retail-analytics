{
 "cells": [
  {
   "cell_type": "code",
   "execution_count": 1,
   "id": "e446be0d",
   "metadata": {},
   "outputs": [],
   "source": [
    "## Price elasticity starter.\n",
    "import pandas as pd\n",
    "from sklearn.linear_model import LinearRegression\n",
    "import matplotlib.pyplot as plt"
   ]
  },
  {
   "cell_type": "code",
   "execution_count": 2,
   "id": "4026b210",
   "metadata": {},
   "outputs": [
    {
     "data": {
      "text/html": [
       "<div>\n",
       "<style scoped>\n",
       "    .dataframe tbody tr th:only-of-type {\n",
       "        vertical-align: middle;\n",
       "    }\n",
       "\n",
       "    .dataframe tbody tr th {\n",
       "        vertical-align: top;\n",
       "    }\n",
       "\n",
       "    .dataframe thead th {\n",
       "        text-align: right;\n",
       "    }\n",
       "</style>\n",
       "<table border=\"1\" class=\"dataframe\">\n",
       "  <thead>\n",
       "    <tr style=\"text-align: right;\">\n",
       "      <th></th>\n",
       "      <th>Date</th>\n",
       "      <th>Q_P1</th>\n",
       "      <th>Q_P2</th>\n",
       "      <th>Q_P3</th>\n",
       "      <th>Q_P4</th>\n",
       "      <th>Q_P5</th>\n",
       "      <th>Q_P6</th>\n",
       "      <th>Q_P7</th>\n",
       "      <th>Q_P8</th>\n",
       "      <th>price_P1</th>\n",
       "      <th>price_P2</th>\n",
       "      <th>price_P3</th>\n",
       "      <th>price_P4</th>\n",
       "      <th>price_P5</th>\n",
       "      <th>price_P6</th>\n",
       "      <th>price_P7</th>\n",
       "      <th>price_P8</th>\n",
       "    </tr>\n",
       "  </thead>\n",
       "  <tbody>\n",
       "    <tr>\n",
       "      <th>0</th>\n",
       "      <td>2016-09-25</td>\n",
       "      <td>10435.81</td>\n",
       "      <td>8240.77</td>\n",
       "      <td>7428.31</td>\n",
       "      <td>4736.72</td>\n",
       "      <td>10998.13</td>\n",
       "      <td>31407.24</td>\n",
       "      <td>6150.97</td>\n",
       "      <td>13779.88</td>\n",
       "      <td>2.11</td>\n",
       "      <td>5.17</td>\n",
       "      <td>2.41</td>\n",
       "      <td>4.03</td>\n",
       "      <td>5.81</td>\n",
       "      <td>3.74</td>\n",
       "      <td>4.05</td>\n",
       "      <td>2.09</td>\n",
       "    </tr>\n",
       "    <tr>\n",
       "      <th>1</th>\n",
       "      <td>2016-10-02</td>\n",
       "      <td>9329.90</td>\n",
       "      <td>7104.73</td>\n",
       "      <td>7436.82</td>\n",
       "      <td>4525.64</td>\n",
       "      <td>10781.69</td>\n",
       "      <td>31590.56</td>\n",
       "      <td>6503.62</td>\n",
       "      <td>12731.18</td>\n",
       "      <td>2.16</td>\n",
       "      <td>5.33</td>\n",
       "      <td>2.43</td>\n",
       "      <td>4.02</td>\n",
       "      <td>5.78</td>\n",
       "      <td>3.74</td>\n",
       "      <td>4.01</td>\n",
       "      <td>2.08</td>\n",
       "    </tr>\n",
       "    <tr>\n",
       "      <th>2</th>\n",
       "      <td>2016-10-09</td>\n",
       "      <td>8113.71</td>\n",
       "      <td>6554.08</td>\n",
       "      <td>6967.51</td>\n",
       "      <td>4434.44</td>\n",
       "      <td>10535.43</td>\n",
       "      <td>30377.80</td>\n",
       "      <td>7448.76</td>\n",
       "      <td>14182.61</td>\n",
       "      <td>2.17</td>\n",
       "      <td>5.39</td>\n",
       "      <td>2.43</td>\n",
       "      <td>4.01</td>\n",
       "      <td>5.78</td>\n",
       "      <td>3.73</td>\n",
       "      <td>3.73</td>\n",
       "      <td>1.95</td>\n",
       "    </tr>\n",
       "    <tr>\n",
       "      <th>3</th>\n",
       "      <td>2016-10-16</td>\n",
       "      <td>8545.75</td>\n",
       "      <td>6901.22</td>\n",
       "      <td>6927.91</td>\n",
       "      <td>4477.84</td>\n",
       "      <td>10685.84</td>\n",
       "      <td>31116.45</td>\n",
       "      <td>7643.16</td>\n",
       "      <td>14924.92</td>\n",
       "      <td>2.14</td>\n",
       "      <td>5.32</td>\n",
       "      <td>2.44</td>\n",
       "      <td>4.02</td>\n",
       "      <td>5.71</td>\n",
       "      <td>3.74</td>\n",
       "      <td>3.66</td>\n",
       "      <td>2.02</td>\n",
       "    </tr>\n",
       "    <tr>\n",
       "      <th>4</th>\n",
       "      <td>2016-10-23</td>\n",
       "      <td>8200.70</td>\n",
       "      <td>6624.80</td>\n",
       "      <td>6757.23</td>\n",
       "      <td>4371.58</td>\n",
       "      <td>11670.29</td>\n",
       "      <td>30447.26</td>\n",
       "      <td>6824.46</td>\n",
       "      <td>14573.77</td>\n",
       "      <td>2.16</td>\n",
       "      <td>5.37</td>\n",
       "      <td>2.45</td>\n",
       "      <td>3.98</td>\n",
       "      <td>5.51</td>\n",
       "      <td>3.75</td>\n",
       "      <td>3.75</td>\n",
       "      <td>2.27</td>\n",
       "    </tr>\n",
       "    <tr>\n",
       "      <th>...</th>\n",
       "      <td>...</td>\n",
       "      <td>...</td>\n",
       "      <td>...</td>\n",
       "      <td>...</td>\n",
       "      <td>...</td>\n",
       "      <td>...</td>\n",
       "      <td>...</td>\n",
       "      <td>...</td>\n",
       "      <td>...</td>\n",
       "      <td>...</td>\n",
       "      <td>...</td>\n",
       "      <td>...</td>\n",
       "      <td>...</td>\n",
       "      <td>...</td>\n",
       "      <td>...</td>\n",
       "      <td>...</td>\n",
       "      <td>...</td>\n",
       "    </tr>\n",
       "    <tr>\n",
       "      <th>151</th>\n",
       "      <td>2019-08-18</td>\n",
       "      <td>4537.20</td>\n",
       "      <td>958.50</td>\n",
       "      <td>20106.24</td>\n",
       "      <td>11194.89</td>\n",
       "      <td>14982.45</td>\n",
       "      <td>4927.63</td>\n",
       "      <td>1396.94</td>\n",
       "      <td>14757.72</td>\n",
       "      <td>2.19</td>\n",
       "      <td>6.73</td>\n",
       "      <td>2.41</td>\n",
       "      <td>4.20</td>\n",
       "      <td>5.88</td>\n",
       "      <td>6.70</td>\n",
       "      <td>4.29</td>\n",
       "      <td>2.42</td>\n",
       "    </tr>\n",
       "    <tr>\n",
       "      <th>152</th>\n",
       "      <td>2019-08-25</td>\n",
       "      <td>4678.89</td>\n",
       "      <td>2039.55</td>\n",
       "      <td>19446.23</td>\n",
       "      <td>10360.86</td>\n",
       "      <td>14249.49</td>\n",
       "      <td>4552.42</td>\n",
       "      <td>2367.29</td>\n",
       "      <td>15713.77</td>\n",
       "      <td>2.20</td>\n",
       "      <td>5.98</td>\n",
       "      <td>2.42</td>\n",
       "      <td>4.21</td>\n",
       "      <td>5.90</td>\n",
       "      <td>6.80</td>\n",
       "      <td>4.26</td>\n",
       "      <td>2.26</td>\n",
       "    </tr>\n",
       "    <tr>\n",
       "      <th>153</th>\n",
       "      <td>2019-09-01</td>\n",
       "      <td>4822.03</td>\n",
       "      <td>2535.14</td>\n",
       "      <td>18646.81</td>\n",
       "      <td>9809.78</td>\n",
       "      <td>14218.43</td>\n",
       "      <td>4280.80</td>\n",
       "      <td>2591.89</td>\n",
       "      <td>14082.42</td>\n",
       "      <td>2.21</td>\n",
       "      <td>5.95</td>\n",
       "      <td>2.42</td>\n",
       "      <td>4.22</td>\n",
       "      <td>5.75</td>\n",
       "      <td>6.62</td>\n",
       "      <td>4.22</td>\n",
       "      <td>2.31</td>\n",
       "    </tr>\n",
       "    <tr>\n",
       "      <th>154</th>\n",
       "      <td>2019-09-08</td>\n",
       "      <td>4385.12</td>\n",
       "      <td>2579.15</td>\n",
       "      <td>19283.60</td>\n",
       "      <td>10227.36</td>\n",
       "      <td>16528.17</td>\n",
       "      <td>4333.30</td>\n",
       "      <td>2691.12</td>\n",
       "      <td>12464.48</td>\n",
       "      <td>2.23</td>\n",
       "      <td>5.94</td>\n",
       "      <td>2.41</td>\n",
       "      <td>4.21</td>\n",
       "      <td>5.35</td>\n",
       "      <td>6.72</td>\n",
       "      <td>4.21</td>\n",
       "      <td>2.60</td>\n",
       "    </tr>\n",
       "    <tr>\n",
       "      <th>155</th>\n",
       "      <td>2019-09-15</td>\n",
       "      <td>4116.90</td>\n",
       "      <td>3033.51</td>\n",
       "      <td>18865.89</td>\n",
       "      <td>9485.78</td>\n",
       "      <td>16953.96</td>\n",
       "      <td>4490.71</td>\n",
       "      <td>2713.14</td>\n",
       "      <td>12375.94</td>\n",
       "      <td>2.24</td>\n",
       "      <td>5.77</td>\n",
       "      <td>2.36</td>\n",
       "      <td>4.18</td>\n",
       "      <td>5.25</td>\n",
       "      <td>6.76</td>\n",
       "      <td>4.25</td>\n",
       "      <td>2.64</td>\n",
       "    </tr>\n",
       "  </tbody>\n",
       "</table>\n",
       "<p>156 rows × 17 columns</p>\n",
       "</div>"
      ],
      "text/plain": [
       "           Date      Q_P1     Q_P2      Q_P3      Q_P4      Q_P5      Q_P6  \\\n",
       "0    2016-09-25  10435.81  8240.77   7428.31   4736.72  10998.13  31407.24   \n",
       "1    2016-10-02   9329.90  7104.73   7436.82   4525.64  10781.69  31590.56   \n",
       "2    2016-10-09   8113.71  6554.08   6967.51   4434.44  10535.43  30377.80   \n",
       "3    2016-10-16   8545.75  6901.22   6927.91   4477.84  10685.84  31116.45   \n",
       "4    2016-10-23   8200.70  6624.80   6757.23   4371.58  11670.29  30447.26   \n",
       "..          ...       ...      ...       ...       ...       ...       ...   \n",
       "151  2019-08-18   4537.20   958.50  20106.24  11194.89  14982.45   4927.63   \n",
       "152  2019-08-25   4678.89  2039.55  19446.23  10360.86  14249.49   4552.42   \n",
       "153  2019-09-01   4822.03  2535.14  18646.81   9809.78  14218.43   4280.80   \n",
       "154  2019-09-08   4385.12  2579.15  19283.60  10227.36  16528.17   4333.30   \n",
       "155  2019-09-15   4116.90  3033.51  18865.89   9485.78  16953.96   4490.71   \n",
       "\n",
       "        Q_P7      Q_P8  price_P1  price_P2  price_P3  price_P4  price_P5  \\\n",
       "0    6150.97  13779.88      2.11      5.17      2.41      4.03      5.81   \n",
       "1    6503.62  12731.18      2.16      5.33      2.43      4.02      5.78   \n",
       "2    7448.76  14182.61      2.17      5.39      2.43      4.01      5.78   \n",
       "3    7643.16  14924.92      2.14      5.32      2.44      4.02      5.71   \n",
       "4    6824.46  14573.77      2.16      5.37      2.45      3.98      5.51   \n",
       "..       ...       ...       ...       ...       ...       ...       ...   \n",
       "151  1396.94  14757.72      2.19      6.73      2.41      4.20      5.88   \n",
       "152  2367.29  15713.77      2.20      5.98      2.42      4.21      5.90   \n",
       "153  2591.89  14082.42      2.21      5.95      2.42      4.22      5.75   \n",
       "154  2691.12  12464.48      2.23      5.94      2.41      4.21      5.35   \n",
       "155  2713.14  12375.94      2.24      5.77      2.36      4.18      5.25   \n",
       "\n",
       "     price_P6  price_P7  price_P8  \n",
       "0        3.74      4.05      2.09  \n",
       "1        3.74      4.01      2.08  \n",
       "2        3.73      3.73      1.95  \n",
       "3        3.74      3.66      2.02  \n",
       "4        3.75      3.75      2.27  \n",
       "..        ...       ...       ...  \n",
       "151      6.70      4.29      2.42  \n",
       "152      6.80      4.26      2.26  \n",
       "153      6.62      4.22      2.31  \n",
       "154      6.72      4.21      2.60  \n",
       "155      6.76      4.25      2.64  \n",
       "\n",
       "[156 rows x 17 columns]"
      ]
     },
     "execution_count": 2,
     "metadata": {},
     "output_type": "execute_result"
    }
   ],
   "source": [
    "# load task dataset\n",
    "price_sales = pd.read_csv(\"https://raw.githubusercontent.com/multidis/hult-retail-analytics/main/price_elasticity/price_sales_weekly.csv\")\n",
    "price_sales"
   ]
  },
  {
   "cell_type": "code",
   "execution_count": 3,
   "id": "6c72cd72",
   "metadata": {},
   "outputs": [
    {
     "data": {
      "text/html": [
       "<div>\n",
       "<style scoped>\n",
       "    .dataframe tbody tr th:only-of-type {\n",
       "        vertical-align: middle;\n",
       "    }\n",
       "\n",
       "    .dataframe tbody tr th {\n",
       "        vertical-align: top;\n",
       "    }\n",
       "\n",
       "    .dataframe thead th {\n",
       "        text-align: right;\n",
       "    }\n",
       "</style>\n",
       "<table border=\"1\" class=\"dataframe\">\n",
       "  <thead>\n",
       "    <tr style=\"text-align: right;\">\n",
       "      <th></th>\n",
       "      <th>product</th>\n",
       "      <th>cost</th>\n",
       "    </tr>\n",
       "  </thead>\n",
       "  <tbody>\n",
       "    <tr>\n",
       "      <th>0</th>\n",
       "      <td>P1</td>\n",
       "      <td>1.3</td>\n",
       "    </tr>\n",
       "    <tr>\n",
       "      <th>1</th>\n",
       "      <td>P2</td>\n",
       "      <td>3.9</td>\n",
       "    </tr>\n",
       "    <tr>\n",
       "      <th>2</th>\n",
       "      <td>P3</td>\n",
       "      <td>1.8</td>\n",
       "    </tr>\n",
       "    <tr>\n",
       "      <th>3</th>\n",
       "      <td>P4</td>\n",
       "      <td>2.9</td>\n",
       "    </tr>\n",
       "    <tr>\n",
       "      <th>4</th>\n",
       "      <td>P5</td>\n",
       "      <td>3.8</td>\n",
       "    </tr>\n",
       "    <tr>\n",
       "      <th>5</th>\n",
       "      <td>P6</td>\n",
       "      <td>3.2</td>\n",
       "    </tr>\n",
       "    <tr>\n",
       "      <th>6</th>\n",
       "      <td>P7</td>\n",
       "      <td>2.5</td>\n",
       "    </tr>\n",
       "    <tr>\n",
       "      <th>7</th>\n",
       "      <td>P8</td>\n",
       "      <td>1.5</td>\n",
       "    </tr>\n",
       "  </tbody>\n",
       "</table>\n",
       "</div>"
      ],
      "text/plain": [
       "  product  cost\n",
       "0      P1   1.3\n",
       "1      P2   3.9\n",
       "2      P3   1.8\n",
       "3      P4   2.9\n",
       "4      P5   3.8\n",
       "5      P6   3.2\n",
       "6      P7   2.5\n",
       "7      P8   1.5"
      ]
     },
     "execution_count": 3,
     "metadata": {},
     "output_type": "execute_result"
    }
   ],
   "source": [
    "# load product cost information\n",
    "cost = pd.read_csv(\"https://raw.githubusercontent.com/multidis/hult-retail-analytics/main/price_elasticity/product_cost.csv\")\n",
    "cost"
   ]
  },
  {
   "cell_type": "code",
   "execution_count": 4,
   "id": "bdff6fcb",
   "metadata": {},
   "outputs": [],
   "source": [
    "# example selected product\n",
    "prod = 1 # \"P1\""
   ]
  },
  {
   "cell_type": "code",
   "execution_count": 5,
   "id": "3d180dd4",
   "metadata": {},
   "outputs": [
    {
     "data": {
      "text/plain": [
       "LinearRegression()"
      ]
     },
     "execution_count": 5,
     "metadata": {},
     "output_type": "execute_result"
    }
   ],
   "source": [
    "linear_regressor = LinearRegression()\n",
    "P = price_sales[\"price_P\" + str(prod)].values.reshape(-1, 1)\n",
    "Q = price_sales[\"Q_P\" + str(prod)].values.reshape(-1, 1)\n",
    "linear_regressor.fit(P, Q)"
   ]
  },
  {
   "cell_type": "code",
   "execution_count": 6,
   "id": "23fb2abc",
   "metadata": {},
   "outputs": [
    {
     "data": {
      "text/plain": [
       "29390.678832754355"
      ]
     },
     "execution_count": 6,
     "metadata": {},
     "output_type": "execute_result"
    }
   ],
   "source": [
    "C1 = linear_regressor.intercept_[0]\n",
    "C1"
   ]
  },
  {
   "cell_type": "code",
   "execution_count": 7,
   "id": "94c287b1",
   "metadata": {},
   "outputs": [
    {
     "data": {
      "text/plain": [
       "9809.965848900474"
      ]
     },
     "execution_count": 7,
     "metadata": {},
     "output_type": "execute_result"
    }
   ],
   "source": [
    "C2 = -linear_regressor.coef_[0][0]\n",
    "C2"
   ]
  },
  {
   "cell_type": "code",
   "execution_count": 8,
   "id": "6ac8d9ad",
   "metadata": {},
   "outputs": [
    {
     "data": {
      "image/png": "[encoded data removed]",
      "text/plain": [
       "<Figure size 432x288 with 1 Axes>"
      ]
     },
     "metadata": {
      "needs_background": "light"
     },
     "output_type": "display_data"
    }
   ],
   "source": [
    "# visualize linear fit\n",
    "Qfit = linear_regressor.predict(P)\n",
    "plt.scatter(P, Q)\n",
    "plt.plot(P, Qfit, color='red')\n",
    "plt.show()"
   ]
  },
  {
   "cell_type": "code",
   "execution_count": 9,
   "id": "0160490b",
   "metadata": {},
   "outputs": [
    {
     "data": {
      "text/plain": [
       "2.158974358974359"
      ]
     },
     "execution_count": 9,
     "metadata": {},
     "output_type": "execute_result"
    }
   ],
   "source": [
    "Pav = price_sales[\"price_P\" + str(prod)].mean()\n",
    "Pav"
   ]
  },
  {
   "cell_type": "code",
   "execution_count": 10,
   "id": "1ba93599",
   "metadata": {},
   "outputs": [
    {
     "data": {
      "text/plain": [
       "8211.214102564101"
      ]
     },
     "execution_count": 10,
     "metadata": {},
     "output_type": "execute_result"
    }
   ],
   "source": [
    "Qav = price_sales[\"Q_P\" + str(prod)].mean()\n",
    "Qav"
   ]
  },
  {
   "cell_type": "code",
   "execution_count": 11,
   "id": "f1d9a9b4",
   "metadata": {},
   "outputs": [
    {
     "data": {
      "text/plain": [
       "-2.5793341235100153"
      ]
     },
     "execution_count": 11,
     "metadata": {},
     "output_type": "execute_result"
    }
   ],
   "source": [
    "# estimate price elasticity\n",
    "Elast = -C2 * Pav / Qav\n",
    "Elast"
   ]
  },
  {
   "cell_type": "code",
   "execution_count": 12,
   "id": "3a8c6ad1",
   "metadata": {},
   "outputs": [
    {
     "data": {
      "text/plain": [
       "1.3"
      ]
     },
     "execution_count": 12,
     "metadata": {},
     "output_type": "execute_result"
    }
   ],
   "source": [
    "# CAUTION Python indices start with 0, not 1\n",
    "C = cost.iloc[prod-1]['cost']\n",
    "C"
   ]
  },
  {
   "cell_type": "code",
   "execution_count": 13,
   "id": "ff2cc62f",
   "metadata": {},
   "outputs": [
    {
     "data": {
      "text/plain": [
       "2.148001077957297"
      ]
     },
     "execution_count": 13,
     "metadata": {},
     "output_type": "execute_result"
    }
   ],
   "source": [
    "# find optimal price\n",
    "Popt = (C1 + C2*C) / (2*C2)\n",
    "Popt"
   ]
  }
 ],
 "metadata": {
  "kernelspec": {
   "display_name": "Python 3",
   "language": "python",
   "name": "python3"
  },
  "language_info": {
   "codemirror_mode": {
    "name": "ipython",
    "version": 3
   },
   "file_extension": ".py",
   "mimetype": "text/x-python",
   "name": "python",
   "nbconvert_exporter": "python",
   "pygments_lexer": "ipython3",
   "version": "3.9.4"
  }
 },
 "nbformat": 4,
 "nbformat_minor": 5
}
